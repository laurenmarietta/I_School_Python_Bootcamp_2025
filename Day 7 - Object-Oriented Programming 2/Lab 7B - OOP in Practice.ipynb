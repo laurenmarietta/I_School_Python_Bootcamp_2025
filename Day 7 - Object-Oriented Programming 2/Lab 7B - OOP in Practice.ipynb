{
 "cells": [
  {
   "cell_type": "markdown",
   "metadata": {},
   "source": [
    "# Lab 7B - OOP in Practice\n",
    "*Day 7 - August 6, 2025*\n",
    "\n",
    "*I School Python Bootcamp*\n",
    "\n",
    "*Author: Lauren Chambers*\n",
    "\n",
    "We've spent the last three lessons developing our understanding of what object-oriented programming is, and how to use it. This lab explores more about what OOP looks like in practice! We'll use OOP principles to build modular and maintainable code, using case studies and examples from packages and code we've already been studying."
   ]
  },
  {
   "cell_type": "code",
   "execution_count": null,
   "metadata": {},
   "outputs": [],
   "source": [
    "import datetime\n",
    "\n",
    "import drawsvg as draw\n",
    "import matplotlib.pyplot as plt\n",
    "import matplotlib.dates as mdates\n",
    "import numpy as np"
   ]
  },
  {
   "cell_type": "markdown",
   "metadata": {},
   "source": [
    "## Objects in the wild\n",
    "Almost everything that we have interacted with up until this point in the bootcamp is - surprise! - an object. How can we know? Try out the `__class__` attribute on something; if it returns a class name, then your variable is an instance of that class."
   ]
  },
  {
   "cell_type": "code",
   "execution_count": null,
   "metadata": {},
   "outputs": [],
   "source": [
    "# String variables are instances of the class `str`\n",
    "\"string\".__class__"
   ]
  },
  {
   "cell_type": "code",
   "execution_count": null,
   "metadata": {},
   "outputs": [],
   "source": [
    "# List variables are instances of the class `list`\n",
    "[1, 23, 4].__class__"
   ]
  },
  {
   "cell_type": "code",
   "execution_count": null,
   "metadata": {},
   "outputs": [],
   "source": [
    "# Functions are instances of the class `function`\n",
    "def add(x, y):\n",
    "    return x + y\n",
    "\n",
    "add.__class__"
   ]
  },
  {
   "cell_type": "code",
   "execution_count": null,
   "metadata": {},
   "outputs": [],
   "source": [
    "# Matplotlib objects are instances of various custom matplotlib classes\n",
    "plt.figure().__class__"
   ]
  },
  {
   "cell_type": "code",
   "execution_count": null,
   "metadata": {},
   "outputs": [],
   "source": [
    "# Even the `print()` function is an instance of the class `builtin_function_or_method`\n",
    "print.__class__"
   ]
  },
  {
   "cell_type": "markdown",
   "metadata": {},
   "source": [
    "Really, the only things that aren't objects are operators and keywords (like `in`, `and`, `for`, `return`, `with`...).\n",
    "\n",
    "What does this mean? It means that these objects:\n",
    "1. Are constructed using fundamental classes that determine how they work, how they interact with other objects, and how they interact with things like operators.\n",
    "2. Have attributes and methods! You can view a full list of any object's attributes and methods using the `dir()` function.\n",
    "\n",
    "It's objects all the way down!!!"
   ]
  },
  {
   "cell_type": "code",
   "execution_count": null,
   "metadata": {
    "scrolled": true
   },
   "outputs": [],
   "source": [
    "dir(print)"
   ]
  },
  {
   "cell_type": "code",
   "execution_count": null,
   "metadata": {
    "scrolled": true
   },
   "outputs": [],
   "source": [
    "dir(\"string\")"
   ]
  },
  {
   "cell_type": "code",
   "execution_count": null,
   "metadata": {},
   "outputs": [],
   "source": [
    "fig = plt.figure()\n",
    "dir(fig)"
   ]
  },
  {
   "cell_type": "markdown",
   "metadata": {},
   "source": [
    "## Object-oriented messaging app\n",
    "\n",
    "We've seen a lot of different classes over the past few days, but a lot of them are pretty impractical for real Python code - cars, pizza, closets, Pokemon... Let's consider an example where we're using classes in Python to **build a messaging app** where different users can DM each other.\n",
    "\n",
    "For this task, we'll make two different classes: `Message` and `User`"
   ]
  },
  {
   "cell_type": "code",
   "execution_count": null,
   "metadata": {},
   "outputs": [],
   "source": [
    "class Message:\n",
    "    \"\"\"Represents a message between users.\"\"\"\n",
    "    \n",
    "    def __init__(self, sender, recipient, content, time_sent = datetime.datetime.now()):\n",
    "        \"\"\"Message class initializer\n",
    "        \n",
    "        Arguments:\n",
    "        ---------\n",
    "        sender - instance of the User class\n",
    "        recipient - (different) instance of the User class\n",
    "        content - string\n",
    "        time_sent - datetime object (defaults to current time)\n",
    "        \"\"\"\n",
    "        self.sender = sender.username\n",
    "        self.recipient = recipient.username\n",
    "        self.content = content\n",
    "\n",
    "        timestamp = time_sent.__format__('%Y-%m-%d %I:%M:%S%p')\n",
    "        self.timestamp = timestamp\n",
    "\n",
    "    def __str__(self):\n",
    "        \"\"\"Rewrite the default Message.__str__() method\"\"\"\n",
    "        return f\"Time: {self.timestamp}\\nFrom: {self.sender}\\nTo: {self.recipient}\\nMessage: {self.content}\\n\"\n"
   ]
  },
  {
   "cell_type": "code",
   "execution_count": null,
   "metadata": {},
   "outputs": [],
   "source": [
    "Message?"
   ]
  },
  {
   "cell_type": "code",
   "execution_count": null,
   "metadata": {},
   "outputs": [],
   "source": [
    "class User:\n",
    "    \"\"\"Represents a system user with a username and inbox.\"\"\"\n",
    "\n",
    "    def __init__(self, username):\n",
    "        self.username = username\n",
    "        self.inbox = []  # list of Message objects\n",
    "\n",
    "    def send_message(self, recipient, content, logfile=\"messages.txt\"):\n",
    "        \"\"\"Send a message to another user, and log it to a file.\n",
    "        \n",
    "        Arguments:\n",
    "        ---------\n",
    "        recipient - instance of the User class\n",
    "        content - string\n",
    "        logfile - string to filepath (default: messages.txt)\n",
    "        \"\"\"\n",
    "        msg = Message(sender=self, recipient=recipient, content=content)\n",
    "        recipient.inbox.append(msg)\n",
    "\n",
    "        # Log message to file\n",
    "        with open(logfile, \"a\") as f:\n",
    "            f.write(str(msg) + \"-\" * 40 + \"\\n\")\n",
    "\n",
    "        print(f\"{msg.timestamp}\\tMessage sent from {self.username} to {recipient.username}.\")\n",
    "\n",
    "    def check_inbox(self):\n",
    "        \"\"\"Print all messages in the user's inbox.\"\"\"\n",
    "        print(f\"📥 {self.username}'s Inbox:\")\n",
    "        if len(self.inbox) == 0:\n",
    "            print(\"(empty)\")\n",
    "        for msg in self.inbox:\n",
    "            print(\">>>\", msg)"
   ]
  },
  {
   "cell_type": "code",
   "execution_count": null,
   "metadata": {},
   "outputs": [],
   "source": [
    "User.send_message?"
   ]
  },
  {
   "cell_type": "code",
   "execution_count": null,
   "metadata": {},
   "outputs": [],
   "source": [
    "# Create users\n",
    "Kira = User(\"lil_k\")\n",
    "Jaime = User(\"jaimeee\")\n",
    "Sarah = User(\"sarah_with_an_h\")\n",
    "\n",
    "# Send some messages\n",
    "Kira.send_message(Jaime, \"Hey Kira! Want to grab lunch?\")\n",
    "Jaime.send_message(Kira, \"Sure! How about 12:30?\")\n",
    "\n",
    "Sarah.send_message(Kira, \"Can you send me the slides?\")\n",
    "Kira.send_message(Sarah, \"Just sent them!\")\n",
    "\n",
    "Jaime.send_message(Sarah, \"Hi Tanay! Great job today.\")\n",
    "\n",
    "# Read inboxes\n",
    "print(\"\\n========= Inbox Check =========\")\n",
    "for user in [Kira, Jaime, Sarah]:\n",
    "    user.check_inbox()\n",
    "    print(\"-\" * 30)"
   ]
  },
  {
   "cell_type": "markdown",
   "metadata": {},
   "source": [
    "## Object-oriented `drawsvg`\n",
    "\n",
    "We can use classes to streamline the vector graphics we create using `drawsvg`. Here's an example of a `Face` class which streamlines the process of drawing the various elements that create different faces."
   ]
  },
  {
   "cell_type": "code",
   "execution_count": null,
   "metadata": {},
   "outputs": [],
   "source": [
    "class Face:\n",
    "    def __init__(self):\n",
    "        self.d = draw.Drawing(width=300, height=300, origin=\"center\")\n",
    "\n",
    "        # Make the face\n",
    "        face = draw.Circle(0, 0, 100, fill='white', stroke_width=2, stroke='black')\n",
    "        self.d.append(face)\n",
    "\n",
    "        # Add the eyes\n",
    "        left_eye = draw.Circle(cx=-30, cy=-30, r=6, fill='black', stroke_width=2, stroke='black')\n",
    "        right_eye = draw.Circle(cx=30, cy=-30, r=6, fill='black', stroke_width=2, stroke='black')\n",
    "        self.d.append(left_eye)\n",
    "        self.d.append(right_eye)\n",
    "\n",
    "\n",
    "    def smile(self):\n",
    "        self.__init__()\n",
    "        smile = draw.ArcLine(cx=0, cy=-10, r=60, start_deg=210, \n",
    "                             end_deg=330, stroke='black', stroke_width=5, \n",
    "                             fill='none', fill_opacity=0.2)\n",
    "        self.d.append(smile)\n",
    "\n",
    "    def frown(self):\n",
    "        self.__init__()\n",
    "        frown = draw.ArcLine(cx=0, cy=70, r=60, start_deg=30, \n",
    "                             end_deg=150, stroke='black', stroke_width=5, \n",
    "                             fill='none', fill_opacity=0.2)\n",
    "        self.d.append(frown)\n",
    "\n",
    "    def scowl(self):\n",
    "        self.frown()\n",
    "\n",
    "        # Add eyebrows\n",
    "        left_eyebrow = draw.Line(-40, -55, -20, -45, stroke='black', stroke_width=2)\n",
    "        right_eyebrow = draw.Line(40, -55, 20, -45, stroke='black', stroke_width=2)\n",
    "        self.d.append(left_eyebrow)\n",
    "        self.d.append(right_eyebrow)\n",
    "    \n",
    "    def display(self):\n",
    "        return self.d\n"
   ]
  },
  {
   "cell_type": "code",
   "execution_count": null,
   "metadata": {},
   "outputs": [],
   "source": [
    "happy_face = Face()\n",
    "happy_face.smile()\n",
    "happy_face.display()"
   ]
  },
  {
   "cell_type": "code",
   "execution_count": null,
   "metadata": {},
   "outputs": [],
   "source": [
    "sad_face = Face()\n",
    "sad_face.frown()\n",
    "sad_face.display()"
   ]
  },
  {
   "cell_type": "markdown",
   "metadata": {},
   "source": [
    "Note that we've built our methods in such a way that you don't have to create a new object to draw a new face - you can draw over one that you've already instantiated."
   ]
  },
  {
   "cell_type": "code",
   "execution_count": null,
   "metadata": {},
   "outputs": [],
   "source": [
    "sad_face.scowl()\n",
    "sad_face.display()"
   ]
  },
  {
   "cell_type": "markdown",
   "metadata": {},
   "source": [
    "# Exercises\n",
    "## Exercise 1\n",
    "\n",
    "Write a Python program to create a class representing a `Ellipse`. Include:\n",
    "- methods to calculate its area and perimeter (Google the formulas if you don't remember 😉)\n",
    "- a method to flip the ellipse, that is, swap its x-radius and its y-radius\n",
    "- a method to draw the ellipse using `drawsvg` (see [here](https://cduck.github.io/drawsvg/#ellipse) for documentation)"
   ]
  },
  {
   "cell_type": "code",
   "execution_count": null,
   "metadata": {},
   "outputs": [],
   "source": []
  },
  {
   "cell_type": "markdown",
   "metadata": {},
   "source": [
    "## Exercise 2\n",
    "\n",
    "First, load in the `USpresidents.txt` file as a list of lists.\n",
    "\n",
    "*Hint: Look at Lab 4A to remember file operations, and use `readlines()` and `split(\":\")`.*\n",
    "\n",
    "Next, create a President class. \n",
    "1. This class should have a constructor (`__init__()` that takes one argument, the index number of the president (1-44), and instantiates an object containing associated information from the presidents.txt file. In the constructor, assign the following attributes:\n",
    "- term_number\n",
    "- first_name\n",
    "- last_name\n",
    "- birth_date\n",
    "- death_date\n",
    "- birth_place\n",
    "- birth_state\n",
    "- term_start_date\n",
    "- term_end_date\n",
    "- party\n",
    "\n",
    "For example:\n",
    "```python\n",
    "obama = President(44)\n",
    "obama.first_name # Barack\n",
    "obama.term_start_date # 2009-01-20\n",
    "obama.party # Democratic\n",
    "```\n",
    "\n",
    "2. Add a method `inauguration_age()` that calculate's the president's age at the start of their term.\n",
    "\n",
    "3. Add a method `plot_ages()` that uses `matplotlib` to create a line plot with all of the president's inaugural ages versus their term number (1-44). (If you can't remember how, look back to Day 5, or check out the matplotlib cheatsheet!) Add a red dot for the specific instance's president (at the coordinate (`self.term_number`, `self.inauguration_age`))."
   ]
  },
  {
   "cell_type": "code",
   "execution_count": null,
   "metadata": {},
   "outputs": [],
   "source": []
  }
 ],
 "metadata": {
  "kernelspec": {
   "display_name": "Python 3 (ipykernel)",
   "language": "python",
   "name": "python3"
  },
  "language_info": {
   "codemirror_mode": {
    "name": "ipython",
    "version": 3
   },
   "file_extension": ".py",
   "mimetype": "text/x-python",
   "name": "python",
   "nbconvert_exporter": "python",
   "pygments_lexer": "ipython3",
   "version": "3.8.17"
  }
 },
 "nbformat": 4,
 "nbformat_minor": 4
}
