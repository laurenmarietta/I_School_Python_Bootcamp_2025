{
 "cells": [
  {
   "cell_type": "markdown",
   "id": "bc7b65443903ddab",
   "metadata": {},
   "source": [
    "# Lab 1A - Getting Started\n",
    "*Day 1 - July 28, 2025*\n",
    "\n",
    "*I School Python Bootcamp*\n",
    "\n",
    "*Author: Lauren Chambers*"
   ]
  },
  {
   "cell_type": "markdown",
   "id": "5a8b70d0b0f36b15",
   "metadata": {},
   "source": [
    "## Getting comfy with Jupyter notebooks\n",
    "First, and most importantly - how to execute cells:"
   ]
  },
  {
   "cell_type": "code",
   "execution_count": null,
   "id": "c844cec828e0d891",
   "metadata": {},
   "outputs": [],
   "source": [
    "# Execute this cell by pressing the \"►\" button in the menu bar\n",
    "print(\"Hello world!\")"
   ]
  },
  {
   "cell_type": "code",
   "execution_count": null,
   "id": "2c6a11b2fbd16d8b",
   "metadata": {},
   "outputs": [],
   "source": [
    "# Execute this cell by pressing Shift + Enter\n",
    "print(\"What is 1 + 1?\")\n",
    "print(1 + 1)"
   ]
  },
  {
   "cell_type": "code",
   "execution_count": null,
   "id": "4f2da7882785dde2",
   "metadata": {},
   "outputs": [],
   "source": [
    "# Now, run all of the cells above this one by putting your cursor into this cell and selecting \"Run > Run all above...\" "
   ]
  },
  {
   "cell_type": "markdown",
   "id": "ed19198a-d327-4cb5-ab57-8e080bee67b9",
   "metadata": {},
   "source": [
    "It's also key to know how to manipulate notebook cells:"
   ]
  },
  {
   "cell_type": "code",
   "execution_count": null,
   "id": "2bacb69e8422712f",
   "metadata": {},
   "outputs": [],
   "source": [
    "# Delete this cell!"
   ]
  },
  {
   "cell_type": "code",
   "execution_count": null,
   "id": "b5e3ae561599c9fd",
   "metadata": {},
   "outputs": [],
   "source": [
    "# Split this cell here ↓\n",
    "# So each comment line is in a seperate cell "
   ]
  },
  {
   "cell_type": "code",
   "execution_count": null,
   "id": "cf0058201e6dd79f",
   "metadata": {},
   "outputs": [],
   "source": [
    "# Move this cell to be the first in this section"
   ]
  },
  {
   "cell_type": "code",
   "execution_count": null,
   "id": "9e8be196fa5010c8",
   "metadata": {},
   "outputs": [],
   "source": [
    "# Add a new cell below this one. Add some code to it, run it, and see what happens!"
   ]
  },
  {
   "cell_type": "markdown",
   "id": "ed6cc89b-d6c3-4e95-9329-ad15b9196617",
   "metadata": {},
   "source": [
    "There are three kinds of Jupyter notebook cells, which you can switch between using the dropdown menu after the ⏩ button: \n",
    "1. **Code** - cells that contain Python code to be executed\n",
    "2. **Markdown** - cells that contain narration and use the [markdown language](https://www.markdownguide.org/cheat-sheet/) to render headings, links, tables, `code`, etc. (this cell is a markdown cell -- double click on this text and you'll see you can edit it.)\n",
    "3. **Raw** - cells that contain Python code NOT to be executed. These can be helpful if you wish to include code as part of an annotation or assignment, or code that you don't want to be accidentally executed. For instance:"
   ]
  },
  {
   "cell_type": "raw",
   "id": "f3974272-520c-45ef-9159-7ff1c4ec4a37",
   "metadata": {},
   "source": [
    "# Here is code in a raw cell that you cannot run! Muahaha\n",
    "print(\"Hello world.\")\n",
    "print(1 + 1)"
   ]
  },
  {
   "cell_type": "markdown",
   "id": "f279104994c2ccd4",
   "metadata": {},
   "source": [
    "<div class=\"alert alert-block alert-warning\">\n",
    "Important - Jupyter notebooks autosave sometimes, but it is not Google Docs! It is extremely possible to lose your code if you terminate the kernel (by, for instance, force-quitting your Terminal window) before saving. So save often! <i>(Either by clicking the 💾 button, going to \"File > Save\", or pressing ⌘ + S)</i>\n",
    "</div>"
   ]
  },
  {
   "cell_type": "markdown",
   "id": "516cff48-1e2d-4343-b1a3-53b110575502",
   "metadata": {},
   "source": [
    "You can also change how the notebook is organized and presented in your browser. Try out these commands and see what changes:\n",
    "- \"View > Left Sidebar > Show Table of Contents\"\n",
    "- \"View > Render Side-by-side\"\n",
    "- \"View > Show Line Numbers\"\n",
    "  \n",
    "Play around!"
   ]
  },
  {
   "cell_type": "markdown",
   "id": "3cac3443-9e77-44c6-a0dd-6dbfdc2fb0f9",
   "metadata": {},
   "source": [
    "Finally, it's never too early to get used to errors. Take a look at the *traceback* that you get when you run the below cell:"
   ]
  },
  {
   "cell_type": "code",
   "execution_count": null,
   "id": "caa629ba-1f5d-44e3-92ee-8c2f4967db68",
   "metadata": {},
   "outputs": [],
   "source": [
    "print(1 + \"1\")"
   ]
  },
  {
   "cell_type": "markdown",
   "id": "9b87d2f6-de30-43ee-95d6-02ff92f4c6c0",
   "metadata": {},
   "source": [
    "What do you think the traceback message is communicating?"
   ]
  },
  {
   "cell_type": "raw",
   "id": "4d479f4f-e497-41af-8268-338052412c45",
   "metadata": {},
   "source": [
    "✏️"
   ]
  },
  {
   "cell_type": "markdown",
   "id": "ed2ba89485a8c775",
   "metadata": {},
   "source": [
    "## Understanding package installation\n",
    "\n",
    "A fun trick that you can do in Jupyter Notebooks: prepending a line with an exclamation point allows you to execute terminal commands from within Jupyter.\n"
   ]
  },
  {
   "cell_type": "code",
   "execution_count": null,
   "id": "8c8509f95d15bb3",
   "metadata": {
    "jupyter": {
     "is_executing": true
    }
   },
   "outputs": [],
   "source": [
    "!pwd"
   ]
  },
  {
   "cell_type": "code",
   "execution_count": null,
   "id": "72f40ed8477eefe8",
   "metadata": {},
   "outputs": [],
   "source": [
    "!which python"
   ]
  },
  {
   "cell_type": "code",
   "execution_count": null,
   "id": "6f1e7b1978a996c9",
   "metadata": {
    "scrolled": true
   },
   "outputs": [],
   "source": [
    "!conda env list"
   ]
  },
  {
   "cell_type": "code",
   "execution_count": null,
   "id": "a7ea0d75997bc1b4",
   "metadata": {
    "editable": true,
    "slideshow": {
     "slide_type": ""
    },
    "tags": []
   },
   "outputs": [],
   "source": [
    "!conda list"
   ]
  },
  {
   "cell_type": "markdown",
   "id": "c9b141ec-13cd-40a7-9909-4fd18e8cb7ca",
   "metadata": {},
   "source": [
    "## Managing cell outputs\n",
    "Oftentimes the output of a cell is long. Sometimes obnoxiously long. Thankfully, Jupyter allows you to expand, collapse, and hide long outputs. Try clicking to the left of the output text at the top of the output. To hide output completely, click on an output and select \"View > Collapse Selected Outputs\""
   ]
  },
  {
   "cell_type": "markdown",
   "id": "e0495d38-5695-4509-a582-9b20c0bc8eed",
   "metadata": {},
   "source": [
    "## Exercises\n",
    "\n",
    "#### 1. Navigate to your Terminal window and find the URL for this Jupyter kernel.\n",
    "#### 2. Save this notebook and then quit the Terminal application. Figure out how to re-open this file!\n",
    "#### 3. Execute the next cell, then figure out how to stop it."
   ]
  },
  {
   "cell_type": "code",
   "execution_count": null,
   "id": "5e8a7358-7b9e-4651-803c-225eccf28f1d",
   "metadata": {
    "scrolled": true
   },
   "outputs": [],
   "source": [
    "while True:\n",
    "    print(\"going\")"
   ]
  }
 ],
 "metadata": {
  "kernelspec": {
   "display_name": "Python 3 (ipykernel)",
   "language": "python",
   "name": "python3"
  },
  "language_info": {
   "codemirror_mode": {
    "name": "ipython",
    "version": 3
   },
   "file_extension": ".py",
   "mimetype": "text/x-python",
   "name": "python",
   "nbconvert_exporter": "python",
   "pygments_lexer": "ipython3",
   "version": "3.8.19"
  }
 },
 "nbformat": 4,
 "nbformat_minor": 5
}
