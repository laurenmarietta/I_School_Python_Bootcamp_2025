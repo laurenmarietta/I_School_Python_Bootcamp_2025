{
 "cells": [
  {
   "cell_type": "markdown",
   "id": "a28c3203e034aab5",
   "metadata": {},
   "source": [
    "# Lab 8B - [206B] `numpy` & Algorithms\n",
    "*Day 8 - August 7, 2025*\n",
    "\n",
    "*I School Python Bootcamp*\n",
    "\n",
    "*Author: Lauren Chambers<br>Modified from notebook by George McIntire*"
   ]
  },
  {
   "cell_type": "markdown",
   "id": "bd073fe5482bcce2",
   "metadata": {},
   "source": [
    "## `numpy`\n",
    "\n",
    "NumPy is a powerful Python library used for numerical and scientific computing. Its name stands for \"Numerical Python.\" NumPy provides support for large, multi-dimensional arrays and matrices, as well as a vast collection of high-level mathematical functions to operate on these arrays. It is one of the fundamental libraries in the Python data science ecosystem."
   ]
  },
  {
   "cell_type": "markdown",
   "id": "45b268ba66c1b9a2",
   "metadata": {},
   "source": [
    "Common practice is to give an alias `np` to numpy when we import the library:"
   ]
  },
  {
   "cell_type": "code",
   "execution_count": null,
   "id": "e20294d3b98ae403",
   "metadata": {},
   "outputs": [],
   "source": [
    "import numpy as np"
   ]
  },
  {
   "cell_type": "markdown",
   "id": "ac2fc994021b2f8a",
   "metadata": {},
   "source": [
    "We can convert a list to a numpy array"
   ]
  },
  {
   "cell_type": "code",
   "execution_count": null,
   "id": "62911e544bd917cd",
   "metadata": {},
   "outputs": [],
   "source": [
    "num_arr = np.array([93,  5, 65, 53, 52, 55, 20, 59, 79, 30, 16, 29, 23,\n",
    "       61, 96, 89, 86, 38, 84, 25])\n",
    "type(num_arr)"
   ]
  },
  {
   "cell_type": "code",
   "execution_count": null,
   "id": "54cbefb3-7e07-48c3-80cf-efcab1bd3618",
   "metadata": {},
   "outputs": [],
   "source": [
    "num_arr.shape"
   ]
  },
  {
   "cell_type": "markdown",
   "id": "3907fed6727b271",
   "metadata": {},
   "source": [
    "Now that its an array, we can use a variety of numpy array methods."
   ]
  },
  {
   "cell_type": "code",
   "execution_count": null,
   "id": "d3fa3b041b9b7796",
   "metadata": {},
   "outputs": [],
   "source": [
    "#mean\n",
    "num_arr.mean()"
   ]
  },
  {
   "cell_type": "code",
   "execution_count": null,
   "id": "d64cb5dee5e529de",
   "metadata": {},
   "outputs": [],
   "source": [
    "#sum\n",
    "num_arr.sum()"
   ]
  },
  {
   "cell_type": "code",
   "execution_count": null,
   "id": "bbdc3c7e53de6d43",
   "metadata": {},
   "outputs": [],
   "source": [
    "#standard deviation\n",
    "num_arr.std()"
   ]
  },
  {
   "cell_type": "markdown",
   "id": "16cbb0b5c88d0021",
   "metadata": {},
   "source": [
    "argmax and argmin tell us the location of the maximum and minimum values."
   ]
  },
  {
   "cell_type": "code",
   "execution_count": null,
   "id": "cdedec646b43ce5a",
   "metadata": {},
   "outputs": [],
   "source": [
    "num_arr.argmax()"
   ]
  },
  {
   "cell_type": "code",
   "execution_count": null,
   "id": "64de509f-ca90-4047-9e73-683b72f84a1a",
   "metadata": {},
   "outputs": [],
   "source": [
    "num_arr[num_arr.argmax()]"
   ]
  },
  {
   "cell_type": "markdown",
   "id": "9702d8b64e5c7c81",
   "metadata": {},
   "source": [
    "Reshape into a 2D matrix. Since len(num_arr) = 20 we can transform it into a 5x4 matrix."
   ]
  },
  {
   "cell_type": "code",
   "execution_count": null,
   "id": "b636685da9877734",
   "metadata": {},
   "outputs": [],
   "source": [
    "num_arr"
   ]
  },
  {
   "cell_type": "code",
   "execution_count": null,
   "id": "e1879891-e414-48f0-9a3f-bfdb8118449d",
   "metadata": {},
   "outputs": [],
   "source": [
    "np.arange(1, 22).reshape(5,4)"
   ]
  },
  {
   "cell_type": "code",
   "execution_count": null,
   "id": "8bccdb53ae44e38e",
   "metadata": {},
   "outputs": [],
   "source": [
    "num_matrix = num_arr.reshape(5,4)\n",
    "num_matrix"
   ]
  },
  {
   "cell_type": "markdown",
   "id": "78a5e434-dd83-4b81-b9c5-7e231d33ff78",
   "metadata": {},
   "source": [
    "Let's check the shape just to be sure that worked as we expected:"
   ]
  },
  {
   "cell_type": "code",
   "execution_count": null,
   "id": "cb581002-a34a-4655-9239-9d8533e7b525",
   "metadata": {},
   "outputs": [],
   "source": [
    "num_matrix.shape"
   ]
  },
  {
   "cell_type": "markdown",
   "id": "e6ac7962bdf8f9ce",
   "metadata": {},
   "source": [
    "With a 2D matrix we can do 2D slicing"
   ]
  },
  {
   "cell_type": "markdown",
   "id": "c5a5ab8197fbc30a",
   "metadata": {},
   "source": [
    "Slice the second column"
   ]
  },
  {
   "cell_type": "code",
   "execution_count": null,
   "id": "69f8443f-fe2f-42fe-ab10-a2cee7f7c887",
   "metadata": {},
   "outputs": [],
   "source": [
    "num_matrix"
   ]
  },
  {
   "cell_type": "code",
   "execution_count": null,
   "id": "360361da071a229f",
   "metadata": {},
   "outputs": [],
   "source": [
    "num_matrix[:, 1]"
   ]
  },
  {
   "cell_type": "markdown",
   "id": "388df73dcc5a9a36",
   "metadata": {},
   "source": [
    "Slice after the second row and before the third column"
   ]
  },
  {
   "cell_type": "code",
   "execution_count": null,
   "id": "8f4b72cf72650b0",
   "metadata": {},
   "outputs": [],
   "source": [
    "num_matrix[2:, :3]"
   ]
  },
  {
   "cell_type": "markdown",
   "id": "fe29c940-d086-480e-b74e-6bb8aacc267d",
   "metadata": {},
   "source": [
    "Recall, too, that we can do element-wise operations using our numpy arrays"
   ]
  },
  {
   "cell_type": "code",
   "execution_count": null,
   "id": "d74197b1-52bc-4932-a4da-95a79deb17d0",
   "metadata": {},
   "outputs": [],
   "source": [
    "num_matrix * num_matrix"
   ]
  },
  {
   "cell_type": "code",
   "execution_count": null,
   "id": "c477eaa3-1e10-4333-baaf-546b9f3903bd",
   "metadata": {},
   "outputs": [],
   "source": [
    "num_matrix - num_matrix"
   ]
  },
  {
   "cell_type": "code",
   "execution_count": null,
   "id": "e0202cd2-397f-4b1b-bf11-1ecf38c94c91",
   "metadata": {},
   "outputs": [],
   "source": [
    "(num_matrix / 2) + num_matrix"
   ]
  },
  {
   "cell_type": "markdown",
   "id": "b7159489-c49c-42ac-9a87-ac1d896c0b62",
   "metadata": {},
   "source": [
    "## Writing algorithms in Python\n",
    "\n",
    "Let's explore how the code works for implementing a few different kinds of algorithms in Python.\n",
    "\n",
    "### Linear search"
   ]
  },
  {
   "cell_type": "code",
   "execution_count": null,
   "id": "3e5a4c4c-65b7-4aad-80ac-ac5576cc64f9",
   "metadata": {},
   "outputs": [],
   "source": [
    "import random"
   ]
  },
  {
   "cell_type": "code",
   "execution_count": null,
   "id": "b2ec940b-0253-400a-94c5-635ed36af990",
   "metadata": {},
   "outputs": [],
   "source": [
    "def linear_search(arr, target):\n",
    "    for i in range(len(arr)):\n",
    "        if arr[i] == target:\n",
    "            return i\n",
    "\n",
    "    return None"
   ]
  },
  {
   "cell_type": "code",
   "execution_count": null,
   "id": "c84ec690-f3e9-478a-913a-d62af962d345",
   "metadata": {},
   "outputs": [],
   "source": [
    "# Generate an array with 20 random numbers between 0 and 100\n",
    "test_array = [random.randint(0, 100) for i in range(20)]\n",
    "test_array"
   ]
  },
  {
   "cell_type": "markdown",
   "id": "1fc72c2b-c2d9-46b8-ad84-55b5bcdeb579",
   "metadata": {},
   "source": [
    "Now let's do a search. Replace the number 75 in the next cell with a number that's in your randomly generated test_array. (If 75 isn't in your array, you'll get an ugly error.)"
   ]
  },
  {
   "cell_type": "code",
   "execution_count": null,
   "id": "b26bee67-698e-4e5c-88bb-c497312fb714",
   "metadata": {},
   "outputs": [],
   "source": [
    "i_target = linear_search(test_array, 75)\n",
    "print(f\"The value {test_array[i_target]} was found at index {i_target}.\")"
   ]
  },
  {
   "cell_type": "markdown",
   "id": "80ff7414-3ebf-4816-86b7-89aefb7bf9ef",
   "metadata": {},
   "source": [
    "### Binary search"
   ]
  },
  {
   "cell_type": "code",
   "execution_count": null,
   "id": "1eb8e85d-1957-4788-a3ee-0095f6b9b08b",
   "metadata": {},
   "outputs": [],
   "source": [
    "def binary_search(arr, target):\n",
    "    i_low = 0 \n",
    "    i_high = len(arr) - 1\n",
    "\n",
    "    while i_low <= i_high:\n",
    "        i_mid = (i_low + i_high) // 2\n",
    "        if arr[i_mid] == target:\n",
    "            return i_mid\n",
    "        elif arr[i_mid] < target:\n",
    "            i_low = i_mid + 1\n",
    "        else:\n",
    "            i_high = i_mid - 1\n",
    "\n",
    "    return None"
   ]
  },
  {
   "cell_type": "markdown",
   "id": "ab1dcf3a-cb25-4ea4-80bd-f8c584e70db0",
   "metadata": {},
   "source": [
    "What happens if we run a binary search on an *unsorted* array? Run the next cell a few times and see what happens. "
   ]
  },
  {
   "cell_type": "code",
   "execution_count": null,
   "id": "98afcc14-1a20-4726-ab03-4e4913be058b",
   "metadata": {},
   "outputs": [],
   "source": [
    "# Generate an array with 10 random numbers between 0 and 10\n",
    "test_array = [random.randint(0, 10) for i in range(10)]\n",
    "print(test_array)\n",
    "\n",
    "i_target = binary_search(test_array, 7)\n",
    "print(f\"The value {test_array[i_target]} was found at index {i_target}.\")"
   ]
  },
  {
   "cell_type": "markdown",
   "id": "d44f064e-048f-4a9e-a922-28dae746e96b",
   "metadata": {},
   "source": [
    "You'll see that, sometimes, the binary search *fails to find* a 7 when there is 100% a 7 in the list. This is because, for binary search to work, it must operate on a *sorted* list.\n",
    "\n",
    "The following code will work so long as there actually is a 7 in the randomized list:"
   ]
  },
  {
   "cell_type": "code",
   "execution_count": null,
   "id": "947ae78f-6cc0-4477-b998-f594b78a8cfa",
   "metadata": {},
   "outputs": [],
   "source": [
    "# Generate an array with 10 random numbers between 0 and 10\n",
    "sorted_array = sorted([random.randint(0, 10) for i in range(10)])\n",
    "print(sorted_array)\n",
    "\n",
    "i_target = binary_search(sorted_array, 7)\n",
    "print(f\"The value {sorted_array[i_target]} was found at index {i_target}.\")"
   ]
  },
  {
   "cell_type": "markdown",
   "id": "4299086a-fb40-413d-8fb4-fbf170a37b77",
   "metadata": {},
   "source": [
    "### Bubble sort"
   ]
  },
  {
   "cell_type": "code",
   "execution_count": null,
   "id": "cd3490ad-c993-471a-8c0a-5c0cf0bded9a",
   "metadata": {},
   "outputs": [],
   "source": [
    "def bubble_sort(arr):\n",
    "    n = len(arr)\n",
    "\n",
    "    for i in range(n):\n",
    "        for j in range(0, n-i-1):\n",
    "            if arr[j] > arr[j+1]:\n",
    "               \tarr[j], arr[j+1] = arr[j+1], arr[j]\n",
    "\n",
    "    return arr"
   ]
  },
  {
   "cell_type": "code",
   "execution_count": null,
   "id": "62f1ceb3-5816-46b4-959d-f38b275d0721",
   "metadata": {},
   "outputs": [],
   "source": [
    "test_array = [random.randint(0, 100) for i in range(20)]\n",
    "print(\"unsorted:\")\n",
    "print(test_array)\n",
    "\n",
    "print(\"\\nsorted:\")\n",
    "print(bubble_sort(test_array))"
   ]
  },
  {
   "cell_type": "markdown",
   "id": "9c68b4ec-bd2f-4ec9-a136-ef1cb9422b15",
   "metadata": {},
   "source": [
    "# Exercises"
   ]
  },
  {
   "cell_type": "markdown",
   "id": "8df02668-e948-43fe-afba-0285bd70483c",
   "metadata": {},
   "source": [
    "## Exercise 1\n",
    "Create a numpy array with 20 elements that are evenly spaced between 0 and 10. *Hint: Use either np.arange() or np.linspace() - do you remember the difference?*\n",
    "\n",
    "1. Calculate the sine of each element using `np.sin()`\n",
    "2. Do the same with `np.exp()` and `np.log()`\n",
    "1. Use `plt.plot()` from `matplotlib` to create a figure with three lines; plot the sine, the exponential, and the logarithmic."
   ]
  },
  {
   "cell_type": "code",
   "execution_count": null,
   "id": "3857e39a-14cc-4e84-b3c3-485c83073615",
   "metadata": {},
   "outputs": [],
   "source": []
  },
  {
   "cell_type": "markdown",
   "id": "119b837b-8ee9-4288-8c92-7e5cebffee63",
   "metadata": {},
   "source": [
    "### Exercise 2\n",
    "\n",
    "Work with structured data representing calendar events to detect scheduling conflicts.\n",
    "\n",
    "First, load the data in `calendars.json` as a dictionary, `all_calendars`, using the `json.load()` function from the `json` library.\n",
    "\n",
    "Then, create a helper function that converts a 24-hour time string (`\"HH:MM\"`) to a float representing minutes since midnight.\n",
    "\n",
    "Finally, write a function `check_conflicts()` that takes two calendars as input, checks for any overlapping events, and returns a list of lists with each pair of conflicting events, like this:\n",
    "```\n",
    "[[conflict1_event1, conflict1_event2],\n",
    " [conflict2_event1], [conflict2_event2],\n",
    " ...\n",
    "]\n",
    "```\n",
    "\n",
    "How might this problem be written using classes? (You don't have to implement it unless you're feeling inspired; just think about it!)"
   ]
  },
  {
   "cell_type": "code",
   "execution_count": null,
   "id": "2c5ef0c0-f9e1-4196-a852-19eb380bcc07",
   "metadata": {},
   "outputs": [],
   "source": [
    "import json"
   ]
  },
  {
   "cell_type": "code",
   "execution_count": null,
   "id": "4b508c48-8d92-431a-bbe8-88538d2b0166",
   "metadata": {},
   "outputs": [],
   "source": [
    "# Load calendars.json as all_calendars"
   ]
  },
  {
   "cell_type": "code",
   "execution_count": null,
   "id": "713fe480-2114-4c9d-8ce9-610d38f6489b",
   "metadata": {},
   "outputs": [],
   "source": [
    "# Write the helper function"
   ]
  },
  {
   "cell_type": "code",
   "execution_count": null,
   "id": "cd63933f-437e-4025-8312-5f62c4b701f2",
   "metadata": {},
   "outputs": [],
   "source": [
    "def check_conflicts(cal_a, cal_b):\n",
    "    \"\"\"Returns a list of conflicting event pairs.\"\"\"\n",
    "    conflicts = []\n",
    "     # YOUR CODE HERE\n",
    "    return conflicts"
   ]
  },
  {
   "cell_type": "code",
   "execution_count": null,
   "id": "f0086d27-db56-4f68-bb6e-1502b7be4ce1",
   "metadata": {},
   "outputs": [],
   "source": [
    "# Run this code to check that your function works\n",
    "deirdres_cal = all_calendars[\"Deirdre\"]\n",
    "coyes_cal = all_calendars[\"Coye\"]\n",
    "\n",
    "conflicting_pairs = check_conflicts(deirdres_cal, coyes_cal)\n",
    "\n",
    "print(\"Detected Conflicts:\")\n",
    "for pair in conflicting_pairs:\n",
    "    print(f\"-> {pair[0]} overlaps with {pair[1]}\")"
   ]
  },
  {
   "cell_type": "markdown",
   "id": "c793bed7-e9ba-4063-b4f9-4c3833824f12",
   "metadata": {},
   "source": [
    "## Bonus `numpy` Exercise\n",
    "1. Use `np.random.random(shape)` to generate a 100 x 100 array of random values.\n",
    "1. Let's use `matplotlib` to visualize this 2D data. (Surprise!) Use the `plt.imshow(data)`, where you pass in your numpy array as the data, and see what it looks like. Fun, huh?\n",
    "1. Reshape the array to a 200 x 50 array, then plot it again."
   ]
  },
  {
   "cell_type": "code",
   "execution_count": null,
   "id": "1a9167c9-5879-4a7e-a44f-6ae6e711605f",
   "metadata": {},
   "outputs": [],
   "source": []
  }
 ],
 "metadata": {
  "kernelspec": {
   "display_name": "Python 3 (ipykernel)",
   "language": "python",
   "name": "python3"
  },
  "language_info": {
   "codemirror_mode": {
    "name": "ipython",
    "version": 3
   },
   "file_extension": ".py",
   "mimetype": "text/x-python",
   "name": "python",
   "nbconvert_exporter": "python",
   "pygments_lexer": "ipython3",
   "version": "3.8.17"
  }
 },
 "nbformat": 4,
 "nbformat_minor": 5
}
