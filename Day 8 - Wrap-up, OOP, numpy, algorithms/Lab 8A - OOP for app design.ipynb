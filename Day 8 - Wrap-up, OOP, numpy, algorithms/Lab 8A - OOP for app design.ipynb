{
 "cells": [
  {
   "cell_type": "markdown",
   "metadata": {},
   "source": [
    "# Lab 8A - OOP for App Design\n",
    "*Day 8 - August 7, 2025*\n",
    "\n",
    "*I School Python Bootcamp*\n",
    "\n",
    "*Author: Lauren Chambers*\n",
    "\n",
    "We've spent the last two days developing our understanding of what object-oriented programming is, and how to use it. This lab explores more about what OOP looks like in practice! We'll use OOP principles to build modular and maintainable code, using case studies and examples from packages and code we've already been studying."
   ]
  },
  {
   "cell_type": "code",
   "execution_count": null,
   "metadata": {},
   "outputs": [],
   "source": [
    "import datetime"
   ]
  },
  {
   "cell_type": "markdown",
   "metadata": {},
   "source": [
    "## Object-oriented messaging app\n",
    "\n",
    "We've seen a lot of different classes over the past few days, but a lot of them are pretty impractical for real Python code - cars, pizza, closets, Pokemon... Let's consider an example where we're using classes in Python to **build a messaging app** where different users can DM each other.\n",
    "\n",
    "For this task, we'll make two different classes: `Message` and `User`"
   ]
  },
  {
   "cell_type": "code",
   "execution_count": null,
   "metadata": {},
   "outputs": [],
   "source": [
    "class Message:\n",
    "    \"\"\"Represents a message between users.\"\"\"\n",
    "    \n",
    "    def __init__(self, sender, recipient, content, time_sent = datetime.datetime.now()):\n",
    "        \"\"\"Message class initializer\n",
    "        \n",
    "        Arguments:\n",
    "        ---------\n",
    "        sender - instance of the User class\n",
    "        recipient - (different) instance of the User class\n",
    "        content - string\n",
    "        time_sent - datetime object (defaults to current time)\n",
    "        \"\"\"\n",
    "        self.sender = sender.username\n",
    "        self.recipient = recipient.username\n",
    "        self.content = content\n",
    "\n",
    "        timestamp = time_sent.__format__('%Y-%m-%d %I:%M:%S%p')\n",
    "        self.timestamp = timestamp\n",
    "\n",
    "    def __str__(self):\n",
    "        \"\"\"Rewrite the default Message.__str__() method\"\"\"\n",
    "        return f\"Time: {self.timestamp}\\nFrom: {self.sender}\\nTo: {self.recipient}\\nMessage: {self.content}\\n\"\n"
   ]
  },
  {
   "cell_type": "code",
   "execution_count": null,
   "metadata": {},
   "outputs": [],
   "source": [
    "Message?"
   ]
  },
  {
   "cell_type": "code",
   "execution_count": null,
   "metadata": {},
   "outputs": [],
   "source": [
    "class User:\n",
    "    \"\"\"Represents a system user with a username and inbox.\"\"\"\n",
    "\n",
    "    def __init__(self, username):\n",
    "        self.username = username\n",
    "        self.inbox = []  # list of Message objects\n",
    "\n",
    "    def send_message(self, recipient, content, logfile=\"messages.txt\"):\n",
    "        \"\"\"Send a message to another user, and log it to a file.\n",
    "        \n",
    "        Arguments:\n",
    "        ---------\n",
    "        recipient - instance of the User class\n",
    "        content - string\n",
    "        logfile - string to filepath (default: messages.txt)\n",
    "        \"\"\"\n",
    "        msg = Message(sender=self, recipient=recipient, content=content)\n",
    "        recipient.inbox.append(msg)\n",
    "\n",
    "        # Log message to file\n",
    "        with open(logfile, \"a\") as f:\n",
    "            f.write(str(msg) + \"-\" * 40 + \"\\n\")\n",
    "\n",
    "        print(f\"{msg.timestamp}\\tMessage sent from {self.username} to {recipient.username}.\")\n",
    "\n",
    "    def check_inbox(self):\n",
    "        \"\"\"Print all messages in the user's inbox.\"\"\"\n",
    "        print(f\"📥 {self.username}'s Inbox:\")\n",
    "        if len(self.inbox) == 0:\n",
    "            print(\"(empty)\")\n",
    "        for msg in self.inbox:\n",
    "            print(\">>>\", msg)"
   ]
  },
  {
   "cell_type": "code",
   "execution_count": null,
   "metadata": {},
   "outputs": [],
   "source": [
    "User.send_message?"
   ]
  },
  {
   "cell_type": "code",
   "execution_count": null,
   "metadata": {},
   "outputs": [],
   "source": [
    "# Create users\n",
    "Kira = User(\"lil_k\")\n",
    "Jaime = User(\"jaimeee\")\n",
    "Sarah = User(\"sarah_with_an_h\")\n",
    "\n",
    "# Send some messages\n",
    "Kira.send_message(Jaime, \"Hey Kira! Want to grab lunch?\")\n",
    "Jaime.send_message(Kira, \"Sure! How about 12:30?\")\n",
    "\n",
    "Sarah.send_message(Kira, \"Can you send me the slides?\")\n",
    "Kira.send_message(Sarah, \"Just sent them!\")\n",
    "\n",
    "Jaime.send_message(Sarah, \"Hi Tanay! Great job today.\")"
   ]
  },
  {
   "cell_type": "code",
   "execution_count": null,
   "metadata": {},
   "outputs": [],
   "source": [
    "# Read inboxes\n",
    "print(\"\\n========= Inbox Check =========\")\n",
    "for user in [Kira, Jaime, Sarah]:\n",
    "    user.check_inbox()\n",
    "    print(\"-\" * 30)"
   ]
  },
  {
   "cell_type": "code",
   "execution_count": null,
   "metadata": {},
   "outputs": [],
   "source": [
    "# Read contents of log file\n",
    "with open(\"messages.txt\", \"r\") as fo:\n",
    "    messages_log = fo.read()\n",
    "\n",
    "print(messages_log)"
   ]
  },
  {
   "cell_type": "markdown",
   "metadata": {},
   "source": [
    "## Exercise 1\n",
    "\n",
    "Send a ton of spam messages!\n",
    "\n",
    "#### 1. Make spam\n",
    "First, create a new function, `generate_spam_str()` that takes one argument, `length`, and returns a string of that length composed entirely of random letters. Use this code to generate a random letter:\n",
    "```\n",
    "random.choice(string.ascii_letters)\n",
    "```\n",
    "\n",
    "#### 2. Send spam\n",
    "Using your new function and any combination of for loops and list comprehensions, send 100 spam messages to one person, each message consisting of a string 200 characters long. It's up to you who you want the messages to come from - Sarah, Kira, Jaime, or a new user.\n",
    "\n",
    "Then, check the unfortunate user's inbox using `check_inbox()` to admire your handiwork."
   ]
  },
  {
   "cell_type": "code",
   "execution_count": null,
   "metadata": {},
   "outputs": [],
   "source": []
  },
  {
   "cell_type": "markdown",
   "metadata": {},
   "source": [
    "## Exercise 2\n",
    "\n",
    "Create a new function, `search_inbox()`, that will be used as a method inside the `User` class in order to search all of the messages in their inbox for a given `keyword`. The function should return a `Message` object.  If the keyword is not found in the inbox, print a helpful message.\n",
    "\n",
    "<details>\n",
    "  <summary>Lost? Click for a hint.</summary>\n",
    "  Use the <code>inbox</code> attribute of the <code>User</code> class and the <code>content</code> attribute of the <code>Message</code> class.\n",
    "</details>"
   ]
  },
  {
   "cell_type": "code",
   "execution_count": null,
   "metadata": {},
   "outputs": [],
   "source": [
    "def search_inbox(self, keyword):\n",
    "    # YOUR CODE HERE\n",
    "\n",
    "# Assign this function to be a method on the User class\n",
    "User.search_inbox = search_inbox # don't touch this line!"
   ]
  },
  {
   "cell_type": "code",
   "execution_count": null,
   "metadata": {},
   "outputs": [],
   "source": [
    "# Run this code to test that your new method works!\n",
    "msg_match = Kira.search_inbox(\"slides\")\n",
    "print(msg_match)"
   ]
  },
  {
   "cell_type": "code",
   "execution_count": null,
   "metadata": {},
   "outputs": [],
   "source": [
    "# And this code should show your message for no matches.\n",
    "msg_match = Jaime.search_inbox(\"pumpkin\")"
   ]
  }
 ],
 "metadata": {
  "kernelspec": {
   "display_name": "Python 3 (ipykernel)",
   "language": "python",
   "name": "python3"
  },
  "language_info": {
   "codemirror_mode": {
    "name": "ipython",
    "version": 3
   },
   "file_extension": ".py",
   "mimetype": "text/x-python",
   "name": "python",
   "nbconvert_exporter": "python",
   "pygments_lexer": "ipython3",
   "version": "3.8.17"
  }
 },
 "nbformat": 4,
 "nbformat_minor": 4
}
